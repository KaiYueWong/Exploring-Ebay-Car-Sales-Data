{
 "cells": [
  {
   "cell_type": "markdown",
   "metadata": {},
   "source": [
    "# Exploring Ebay Car Sale Data"
   ]
  },
  {
   "cell_type": "markdown",
   "metadata": {},
   "source": [
    "In this project, we will work with a dataset of used car from eBay Kleinanzeigen. It is a classifieds section of the German eBay website. This data was originally scraped and uploaded to kaggle. A few modifications are made to the original dataset\n",
    "* 50,000 data points are sampled from the full dataset."
   ]
  },
  {
   "cell_type": "markdown",
   "metadata": {},
   "source": [
    "### The data's structure is described as follows:\n",
    "\n",
    "| Column  | Description  | \n",
    "|---|---|\n",
    "|  dateCrawled | When this ad was first crawled. All field-values are taken from this date  |\n",
    "| name  | Name of the car  |\n",
    "| seller  | Whether the seller is private or a dealer.  |\n",
    "| offerType  | The type of listing  |\n",
    "| price | The price on the ad to sell the car.  |\n",
    "| abtest  | Whether the listing is included in an A/B test.  |\n",
    "| vehicleType  | The vehicle Type.  |\n",
    "| yearOfRegistration  | The year in which the car was first registered  |\n",
    "| gearbox  | The transmission type  |\n",
    "| powerPS  | The power of the car in PS  |\n",
    "| model  |  The car model name.  |\n",
    "| kilometer  | How many kilometers the car has driven  |\n",
    "| monthOfRegistration  | The month in which the car was first registered  |\n",
    "| fuelType  | What type of fuel the car uses  |\n",
    "| brand  | The brand of the car  |\n",
    "| notRepairedDamage  | If the car has a damage which is not yet repaired  |\n",
    "| dateCreated  | The date on which the eBay listing was created  |\n",
    "| nrOfPictures  | The number of pictures in the ad  |\n",
    "| postalCode  | The postal code for the location of the vehicle  |\n",
    "| lastSeenOnline  | When the crawler saw this ad last online  |\n"
   ]
  },
  {
   "cell_type": "markdown",
   "metadata": {},
   "source": [
    "### Aim:\n",
    "The aim of this project is to clean the data and analyze the included used car listings."
   ]
  },
  {
   "cell_type": "code",
   "execution_count": 1,
   "metadata": {},
   "outputs": [],
   "source": [
    "import numpy as np\n",
    "import pandas as pd"
   ]
  },
  {
   "cell_type": "code",
   "execution_count": 2,
   "metadata": {},
   "outputs": [],
   "source": [
    "autos = pd.read_csv('autos.csv', encoding= 'Latin-1')"
   ]
  },
  {
   "cell_type": "markdown",
   "metadata": {},
   "source": [
    "Let's inspect the dataset:"
   ]
  },
  {
   "cell_type": "code",
   "execution_count": 3,
   "metadata": {},
   "outputs": [
    {
     "name": "stdout",
     "output_type": "stream",
     "text": [
      "(50000, 20)\n",
      "<class 'pandas.core.frame.DataFrame'>\n",
      "RangeIndex: 50000 entries, 0 to 49999\n",
      "Data columns (total 20 columns):\n",
      " #   Column               Non-Null Count  Dtype \n",
      "---  ------               --------------  ----- \n",
      " 0   dateCrawled          50000 non-null  object\n",
      " 1   name                 50000 non-null  object\n",
      " 2   seller               50000 non-null  object\n",
      " 3   offerType            50000 non-null  object\n",
      " 4   price                50000 non-null  object\n",
      " 5   abtest               50000 non-null  object\n",
      " 6   vehicleType          44905 non-null  object\n",
      " 7   yearOfRegistration   50000 non-null  int64 \n",
      " 8   gearbox              47320 non-null  object\n",
      " 9   powerPS              50000 non-null  int64 \n",
      " 10  model                47242 non-null  object\n",
      " 11  odometer             50000 non-null  object\n",
      " 12  monthOfRegistration  50000 non-null  int64 \n",
      " 13  fuelType             45518 non-null  object\n",
      " 14  brand                50000 non-null  object\n",
      " 15  notRepairedDamage    40171 non-null  object\n",
      " 16  dateCreated          50000 non-null  object\n",
      " 17  nrOfPictures         50000 non-null  int64 \n",
      " 18  postalCode           50000 non-null  int64 \n",
      " 19  lastSeen             50000 non-null  object\n",
      "dtypes: int64(5), object(15)\n",
      "memory usage: 7.6+ MB\n",
      "None\n"
     ]
    },
    {
     "data": {
      "text/html": [
       "<div>\n",
       "<style scoped>\n",
       "    .dataframe tbody tr th:only-of-type {\n",
       "        vertical-align: middle;\n",
       "    }\n",
       "\n",
       "    .dataframe tbody tr th {\n",
       "        vertical-align: top;\n",
       "    }\n",
       "\n",
       "    .dataframe thead th {\n",
       "        text-align: right;\n",
       "    }\n",
       "</style>\n",
       "<table border=\"1\" class=\"dataframe\">\n",
       "  <thead>\n",
       "    <tr style=\"text-align: right;\">\n",
       "      <th></th>\n",
       "      <th>dateCrawled</th>\n",
       "      <th>name</th>\n",
       "      <th>seller</th>\n",
       "      <th>offerType</th>\n",
       "      <th>price</th>\n",
       "      <th>abtest</th>\n",
       "      <th>vehicleType</th>\n",
       "      <th>yearOfRegistration</th>\n",
       "      <th>gearbox</th>\n",
       "      <th>powerPS</th>\n",
       "      <th>model</th>\n",
       "      <th>odometer</th>\n",
       "      <th>monthOfRegistration</th>\n",
       "      <th>fuelType</th>\n",
       "      <th>brand</th>\n",
       "      <th>notRepairedDamage</th>\n",
       "      <th>dateCreated</th>\n",
       "      <th>nrOfPictures</th>\n",
       "      <th>postalCode</th>\n",
       "      <th>lastSeen</th>\n",
       "    </tr>\n",
       "  </thead>\n",
       "  <tbody>\n",
       "    <tr>\n",
       "      <th>0</th>\n",
       "      <td>2016-03-26 17:47:46</td>\n",
       "      <td>Peugeot_807_160_NAVTECH_ON_BOARD</td>\n",
       "      <td>privat</td>\n",
       "      <td>Angebot</td>\n",
       "      <td>$5,000</td>\n",
       "      <td>control</td>\n",
       "      <td>bus</td>\n",
       "      <td>2004</td>\n",
       "      <td>manuell</td>\n",
       "      <td>158</td>\n",
       "      <td>andere</td>\n",
       "      <td>150,000km</td>\n",
       "      <td>3</td>\n",
       "      <td>lpg</td>\n",
       "      <td>peugeot</td>\n",
       "      <td>nein</td>\n",
       "      <td>2016-03-26 00:00:00</td>\n",
       "      <td>0</td>\n",
       "      <td>79588</td>\n",
       "      <td>2016-04-06 06:45:54</td>\n",
       "    </tr>\n",
       "    <tr>\n",
       "      <th>1</th>\n",
       "      <td>2016-04-04 13:38:56</td>\n",
       "      <td>BMW_740i_4_4_Liter_HAMANN_UMBAU_Mega_Optik</td>\n",
       "      <td>privat</td>\n",
       "      <td>Angebot</td>\n",
       "      <td>$8,500</td>\n",
       "      <td>control</td>\n",
       "      <td>limousine</td>\n",
       "      <td>1997</td>\n",
       "      <td>automatik</td>\n",
       "      <td>286</td>\n",
       "      <td>7er</td>\n",
       "      <td>150,000km</td>\n",
       "      <td>6</td>\n",
       "      <td>benzin</td>\n",
       "      <td>bmw</td>\n",
       "      <td>nein</td>\n",
       "      <td>2016-04-04 00:00:00</td>\n",
       "      <td>0</td>\n",
       "      <td>71034</td>\n",
       "      <td>2016-04-06 14:45:08</td>\n",
       "    </tr>\n",
       "    <tr>\n",
       "      <th>2</th>\n",
       "      <td>2016-03-26 18:57:24</td>\n",
       "      <td>Volkswagen_Golf_1.6_United</td>\n",
       "      <td>privat</td>\n",
       "      <td>Angebot</td>\n",
       "      <td>$8,990</td>\n",
       "      <td>test</td>\n",
       "      <td>limousine</td>\n",
       "      <td>2009</td>\n",
       "      <td>manuell</td>\n",
       "      <td>102</td>\n",
       "      <td>golf</td>\n",
       "      <td>70,000km</td>\n",
       "      <td>7</td>\n",
       "      <td>benzin</td>\n",
       "      <td>volkswagen</td>\n",
       "      <td>nein</td>\n",
       "      <td>2016-03-26 00:00:00</td>\n",
       "      <td>0</td>\n",
       "      <td>35394</td>\n",
       "      <td>2016-04-06 20:15:37</td>\n",
       "    </tr>\n",
       "    <tr>\n",
       "      <th>3</th>\n",
       "      <td>2016-03-12 16:58:10</td>\n",
       "      <td>Smart_smart_fortwo_coupe_softouch/F1/Klima/Pan...</td>\n",
       "      <td>privat</td>\n",
       "      <td>Angebot</td>\n",
       "      <td>$4,350</td>\n",
       "      <td>control</td>\n",
       "      <td>kleinwagen</td>\n",
       "      <td>2007</td>\n",
       "      <td>automatik</td>\n",
       "      <td>71</td>\n",
       "      <td>fortwo</td>\n",
       "      <td>70,000km</td>\n",
       "      <td>6</td>\n",
       "      <td>benzin</td>\n",
       "      <td>smart</td>\n",
       "      <td>nein</td>\n",
       "      <td>2016-03-12 00:00:00</td>\n",
       "      <td>0</td>\n",
       "      <td>33729</td>\n",
       "      <td>2016-03-15 03:16:28</td>\n",
       "    </tr>\n",
       "    <tr>\n",
       "      <th>4</th>\n",
       "      <td>2016-04-01 14:38:50</td>\n",
       "      <td>Ford_Focus_1_6_Benzin_TÜV_neu_ist_sehr_gepfleg...</td>\n",
       "      <td>privat</td>\n",
       "      <td>Angebot</td>\n",
       "      <td>$1,350</td>\n",
       "      <td>test</td>\n",
       "      <td>kombi</td>\n",
       "      <td>2003</td>\n",
       "      <td>manuell</td>\n",
       "      <td>0</td>\n",
       "      <td>focus</td>\n",
       "      <td>150,000km</td>\n",
       "      <td>7</td>\n",
       "      <td>benzin</td>\n",
       "      <td>ford</td>\n",
       "      <td>nein</td>\n",
       "      <td>2016-04-01 00:00:00</td>\n",
       "      <td>0</td>\n",
       "      <td>39218</td>\n",
       "      <td>2016-04-01 14:38:50</td>\n",
       "    </tr>\n",
       "  </tbody>\n",
       "</table>\n",
       "</div>"
      ],
      "text/plain": [
       "           dateCrawled                                               name  \\\n",
       "0  2016-03-26 17:47:46                   Peugeot_807_160_NAVTECH_ON_BOARD   \n",
       "1  2016-04-04 13:38:56         BMW_740i_4_4_Liter_HAMANN_UMBAU_Mega_Optik   \n",
       "2  2016-03-26 18:57:24                         Volkswagen_Golf_1.6_United   \n",
       "3  2016-03-12 16:58:10  Smart_smart_fortwo_coupe_softouch/F1/Klima/Pan...   \n",
       "4  2016-04-01 14:38:50  Ford_Focus_1_6_Benzin_TÜV_neu_ist_sehr_gepfleg...   \n",
       "\n",
       "   seller offerType   price   abtest vehicleType  yearOfRegistration  \\\n",
       "0  privat   Angebot  $5,000  control         bus                2004   \n",
       "1  privat   Angebot  $8,500  control   limousine                1997   \n",
       "2  privat   Angebot  $8,990     test   limousine                2009   \n",
       "3  privat   Angebot  $4,350  control  kleinwagen                2007   \n",
       "4  privat   Angebot  $1,350     test       kombi                2003   \n",
       "\n",
       "     gearbox  powerPS   model   odometer  monthOfRegistration fuelType  \\\n",
       "0    manuell      158  andere  150,000km                    3      lpg   \n",
       "1  automatik      286     7er  150,000km                    6   benzin   \n",
       "2    manuell      102    golf   70,000km                    7   benzin   \n",
       "3  automatik       71  fortwo   70,000km                    6   benzin   \n",
       "4    manuell        0   focus  150,000km                    7   benzin   \n",
       "\n",
       "        brand notRepairedDamage          dateCreated  nrOfPictures  \\\n",
       "0     peugeot              nein  2016-03-26 00:00:00             0   \n",
       "1         bmw              nein  2016-04-04 00:00:00             0   \n",
       "2  volkswagen              nein  2016-03-26 00:00:00             0   \n",
       "3       smart              nein  2016-03-12 00:00:00             0   \n",
       "4        ford              nein  2016-04-01 00:00:00             0   \n",
       "\n",
       "   postalCode             lastSeen  \n",
       "0       79588  2016-04-06 06:45:54  \n",
       "1       71034  2016-04-06 14:45:08  \n",
       "2       35394  2016-04-06 20:15:37  \n",
       "3       33729  2016-03-15 03:16:28  \n",
       "4       39218  2016-04-01 14:38:50  "
      ]
     },
     "execution_count": 3,
     "metadata": {},
     "output_type": "execute_result"
    }
   ],
   "source": [
    "print(autos.shape)\n",
    "print(autos.info())\n",
    "autos.head()"
   ]
  },
  {
   "cell_type": "markdown",
   "metadata": {},
   "source": [
    "This dataset consists of 50,000 rows and 20 columns. 15 columns are having a datatype of strings and 5 columns have 'int64' value.\n",
    "\n",
    "Some columns have null values but non of them have more than 20% null value. "
   ]
  },
  {
   "cell_type": "markdown",
   "metadata": {},
   "source": [
    "### Convert camelCase to snakecase for column names:"
   ]
  },
  {
   "cell_type": "markdown",
   "metadata": {},
   "source": [
    "This dataset also use 'camelCase' instead of python preferred 'Snakecase' for the column name. We have to make a conversion before the data analysis.m"
   ]
  },
  {
   "cell_type": "code",
   "execution_count": 4,
   "metadata": {},
   "outputs": [
    {
     "name": "stdout",
     "output_type": "stream",
     "text": [
      "Index(['dateCrawled', 'name', 'seller', 'offerType', 'price', 'abtest',\n",
      "       'vehicleType', 'yearOfRegistration', 'gearbox', 'powerPS', 'model',\n",
      "       'odometer', 'monthOfRegistration', 'fuelType', 'brand',\n",
      "       'notRepairedDamage', 'dateCreated', 'nrOfPictures', 'postalCode',\n",
      "       'lastSeen'],\n",
      "      dtype='object')\n"
     ]
    }
   ],
   "source": [
    "print(autos.columns)\n",
    "columns = autos.columns  "
   ]
  },
  {
   "cell_type": "code",
   "execution_count": 5,
   "metadata": {},
   "outputs": [],
   "source": [
    "mapping_dict = {\n",
    "    'dateCrawled':'date_crawled',\n",
    "    'name':'name',\n",
    "    'seller':'seller',\n",
    "    'offerType':'offer_type',\n",
    "    'price':'price',\n",
    "    'abtest':'abtest',\n",
    "    'vehicleType':'vehicle_type',\n",
    "    'yearOfRegistration':'registration_year',\n",
    "    'gearbox':'gearbox',\n",
    "    'powerPS':'power_ps',\n",
    "    'model':'model',\n",
    "    'odometer':'odometer',\n",
    "    'monthOfRegistration':'registration_month',\n",
    "    'fuelType':'fuel_type',\n",
    "    'brand':'brand',\n",
    "    'notRepairedDamage':'unrepaired_damage',\n",
    "    'dateCreated':'ad_created',\n",
    "    'nrOfPictures':'nr_of_picture',\n",
    "    'postalCode':'postal_code',\n",
    "    'lastSeen':'last_seen'\n",
    "}\n",
    "autos.columns = autos.columns.map(mapping_dict)"
   ]
  },
  {
   "cell_type": "code",
   "execution_count": 6,
   "metadata": {},
   "outputs": [
    {
     "data": {
      "text/html": [
       "<div>\n",
       "<style scoped>\n",
       "    .dataframe tbody tr th:only-of-type {\n",
       "        vertical-align: middle;\n",
       "    }\n",
       "\n",
       "    .dataframe tbody tr th {\n",
       "        vertical-align: top;\n",
       "    }\n",
       "\n",
       "    .dataframe thead th {\n",
       "        text-align: right;\n",
       "    }\n",
       "</style>\n",
       "<table border=\"1\" class=\"dataframe\">\n",
       "  <thead>\n",
       "    <tr style=\"text-align: right;\">\n",
       "      <th></th>\n",
       "      <th>date_crawled</th>\n",
       "      <th>name</th>\n",
       "      <th>seller</th>\n",
       "      <th>offer_type</th>\n",
       "      <th>price</th>\n",
       "      <th>abtest</th>\n",
       "      <th>vehicle_type</th>\n",
       "      <th>registration_year</th>\n",
       "      <th>gearbox</th>\n",
       "      <th>power_ps</th>\n",
       "      <th>model</th>\n",
       "      <th>odometer</th>\n",
       "      <th>registration_month</th>\n",
       "      <th>fuel_type</th>\n",
       "      <th>brand</th>\n",
       "      <th>unrepaired_damage</th>\n",
       "      <th>ad_created</th>\n",
       "      <th>nr_of_picture</th>\n",
       "      <th>postal_code</th>\n",
       "      <th>last_seen</th>\n",
       "    </tr>\n",
       "  </thead>\n",
       "  <tbody>\n",
       "    <tr>\n",
       "      <th>0</th>\n",
       "      <td>2016-03-26 17:47:46</td>\n",
       "      <td>Peugeot_807_160_NAVTECH_ON_BOARD</td>\n",
       "      <td>privat</td>\n",
       "      <td>Angebot</td>\n",
       "      <td>$5,000</td>\n",
       "      <td>control</td>\n",
       "      <td>bus</td>\n",
       "      <td>2004</td>\n",
       "      <td>manuell</td>\n",
       "      <td>158</td>\n",
       "      <td>andere</td>\n",
       "      <td>150,000km</td>\n",
       "      <td>3</td>\n",
       "      <td>lpg</td>\n",
       "      <td>peugeot</td>\n",
       "      <td>nein</td>\n",
       "      <td>2016-03-26 00:00:00</td>\n",
       "      <td>0</td>\n",
       "      <td>79588</td>\n",
       "      <td>2016-04-06 06:45:54</td>\n",
       "    </tr>\n",
       "    <tr>\n",
       "      <th>1</th>\n",
       "      <td>2016-04-04 13:38:56</td>\n",
       "      <td>BMW_740i_4_4_Liter_HAMANN_UMBAU_Mega_Optik</td>\n",
       "      <td>privat</td>\n",
       "      <td>Angebot</td>\n",
       "      <td>$8,500</td>\n",
       "      <td>control</td>\n",
       "      <td>limousine</td>\n",
       "      <td>1997</td>\n",
       "      <td>automatik</td>\n",
       "      <td>286</td>\n",
       "      <td>7er</td>\n",
       "      <td>150,000km</td>\n",
       "      <td>6</td>\n",
       "      <td>benzin</td>\n",
       "      <td>bmw</td>\n",
       "      <td>nein</td>\n",
       "      <td>2016-04-04 00:00:00</td>\n",
       "      <td>0</td>\n",
       "      <td>71034</td>\n",
       "      <td>2016-04-06 14:45:08</td>\n",
       "    </tr>\n",
       "    <tr>\n",
       "      <th>2</th>\n",
       "      <td>2016-03-26 18:57:24</td>\n",
       "      <td>Volkswagen_Golf_1.6_United</td>\n",
       "      <td>privat</td>\n",
       "      <td>Angebot</td>\n",
       "      <td>$8,990</td>\n",
       "      <td>test</td>\n",
       "      <td>limousine</td>\n",
       "      <td>2009</td>\n",
       "      <td>manuell</td>\n",
       "      <td>102</td>\n",
       "      <td>golf</td>\n",
       "      <td>70,000km</td>\n",
       "      <td>7</td>\n",
       "      <td>benzin</td>\n",
       "      <td>volkswagen</td>\n",
       "      <td>nein</td>\n",
       "      <td>2016-03-26 00:00:00</td>\n",
       "      <td>0</td>\n",
       "      <td>35394</td>\n",
       "      <td>2016-04-06 20:15:37</td>\n",
       "    </tr>\n",
       "    <tr>\n",
       "      <th>3</th>\n",
       "      <td>2016-03-12 16:58:10</td>\n",
       "      <td>Smart_smart_fortwo_coupe_softouch/F1/Klima/Pan...</td>\n",
       "      <td>privat</td>\n",
       "      <td>Angebot</td>\n",
       "      <td>$4,350</td>\n",
       "      <td>control</td>\n",
       "      <td>kleinwagen</td>\n",
       "      <td>2007</td>\n",
       "      <td>automatik</td>\n",
       "      <td>71</td>\n",
       "      <td>fortwo</td>\n",
       "      <td>70,000km</td>\n",
       "      <td>6</td>\n",
       "      <td>benzin</td>\n",
       "      <td>smart</td>\n",
       "      <td>nein</td>\n",
       "      <td>2016-03-12 00:00:00</td>\n",
       "      <td>0</td>\n",
       "      <td>33729</td>\n",
       "      <td>2016-03-15 03:16:28</td>\n",
       "    </tr>\n",
       "    <tr>\n",
       "      <th>4</th>\n",
       "      <td>2016-04-01 14:38:50</td>\n",
       "      <td>Ford_Focus_1_6_Benzin_TÜV_neu_ist_sehr_gepfleg...</td>\n",
       "      <td>privat</td>\n",
       "      <td>Angebot</td>\n",
       "      <td>$1,350</td>\n",
       "      <td>test</td>\n",
       "      <td>kombi</td>\n",
       "      <td>2003</td>\n",
       "      <td>manuell</td>\n",
       "      <td>0</td>\n",
       "      <td>focus</td>\n",
       "      <td>150,000km</td>\n",
       "      <td>7</td>\n",
       "      <td>benzin</td>\n",
       "      <td>ford</td>\n",
       "      <td>nein</td>\n",
       "      <td>2016-04-01 00:00:00</td>\n",
       "      <td>0</td>\n",
       "      <td>39218</td>\n",
       "      <td>2016-04-01 14:38:50</td>\n",
       "    </tr>\n",
       "  </tbody>\n",
       "</table>\n",
       "</div>"
      ],
      "text/plain": [
       "          date_crawled                                               name  \\\n",
       "0  2016-03-26 17:47:46                   Peugeot_807_160_NAVTECH_ON_BOARD   \n",
       "1  2016-04-04 13:38:56         BMW_740i_4_4_Liter_HAMANN_UMBAU_Mega_Optik   \n",
       "2  2016-03-26 18:57:24                         Volkswagen_Golf_1.6_United   \n",
       "3  2016-03-12 16:58:10  Smart_smart_fortwo_coupe_softouch/F1/Klima/Pan...   \n",
       "4  2016-04-01 14:38:50  Ford_Focus_1_6_Benzin_TÜV_neu_ist_sehr_gepfleg...   \n",
       "\n",
       "   seller offer_type   price   abtest vehicle_type  registration_year  \\\n",
       "0  privat    Angebot  $5,000  control          bus               2004   \n",
       "1  privat    Angebot  $8,500  control    limousine               1997   \n",
       "2  privat    Angebot  $8,990     test    limousine               2009   \n",
       "3  privat    Angebot  $4,350  control   kleinwagen               2007   \n",
       "4  privat    Angebot  $1,350     test        kombi               2003   \n",
       "\n",
       "     gearbox  power_ps   model   odometer  registration_month fuel_type  \\\n",
       "0    manuell       158  andere  150,000km                   3       lpg   \n",
       "1  automatik       286     7er  150,000km                   6    benzin   \n",
       "2    manuell       102    golf   70,000km                   7    benzin   \n",
       "3  automatik        71  fortwo   70,000km                   6    benzin   \n",
       "4    manuell         0   focus  150,000km                   7    benzin   \n",
       "\n",
       "        brand unrepaired_damage           ad_created  nr_of_picture  \\\n",
       "0     peugeot              nein  2016-03-26 00:00:00              0   \n",
       "1         bmw              nein  2016-04-04 00:00:00              0   \n",
       "2  volkswagen              nein  2016-03-26 00:00:00              0   \n",
       "3       smart              nein  2016-03-12 00:00:00              0   \n",
       "4        ford              nein  2016-04-01 00:00:00              0   \n",
       "\n",
       "   postal_code            last_seen  \n",
       "0        79588  2016-04-06 06:45:54  \n",
       "1        71034  2016-04-06 14:45:08  \n",
       "2        35394  2016-04-06 20:15:37  \n",
       "3        33729  2016-03-15 03:16:28  \n",
       "4        39218  2016-04-01 14:38:50  "
      ]
     },
     "execution_count": 6,
     "metadata": {},
     "output_type": "execute_result"
    }
   ],
   "source": [
    "autos.head()"
   ]
  },
  {
   "cell_type": "markdown",
   "metadata": {},
   "source": [
    "To match with the python's preferred naming, we have modified the name of each column from camelcase to snakecase."
   ]
  },
  {
   "cell_type": "markdown",
   "metadata": {},
   "source": [
    "### Basic Data Exploration:\n",
    "We will first look for:\n",
    "* Text columns where all or almost all values are the same. These columns do not contain much information.\n",
    "* Numerical data stored as text can be cleaned and converted.\n",
    "\n",
    "#### To gather the descriptive statistics for all categorical and numerical columns"
   ]
  },
  {
   "cell_type": "code",
   "execution_count": 7,
   "metadata": {
    "scrolled": false
   },
   "outputs": [
    {
     "data": {
      "text/html": [
       "<div>\n",
       "<style scoped>\n",
       "    .dataframe tbody tr th:only-of-type {\n",
       "        vertical-align: middle;\n",
       "    }\n",
       "\n",
       "    .dataframe tbody tr th {\n",
       "        vertical-align: top;\n",
       "    }\n",
       "\n",
       "    .dataframe thead th {\n",
       "        text-align: right;\n",
       "    }\n",
       "</style>\n",
       "<table border=\"1\" class=\"dataframe\">\n",
       "  <thead>\n",
       "    <tr style=\"text-align: right;\">\n",
       "      <th></th>\n",
       "      <th>date_crawled</th>\n",
       "      <th>name</th>\n",
       "      <th>seller</th>\n",
       "      <th>offer_type</th>\n",
       "      <th>price</th>\n",
       "      <th>abtest</th>\n",
       "      <th>vehicle_type</th>\n",
       "      <th>registration_year</th>\n",
       "      <th>gearbox</th>\n",
       "      <th>power_ps</th>\n",
       "      <th>model</th>\n",
       "      <th>odometer</th>\n",
       "      <th>registration_month</th>\n",
       "      <th>fuel_type</th>\n",
       "      <th>brand</th>\n",
       "      <th>unrepaired_damage</th>\n",
       "      <th>ad_created</th>\n",
       "      <th>nr_of_picture</th>\n",
       "      <th>postal_code</th>\n",
       "      <th>last_seen</th>\n",
       "    </tr>\n",
       "  </thead>\n",
       "  <tbody>\n",
       "    <tr>\n",
       "      <th>count</th>\n",
       "      <td>50000</td>\n",
       "      <td>50000</td>\n",
       "      <td>50000</td>\n",
       "      <td>50000</td>\n",
       "      <td>50000</td>\n",
       "      <td>50000</td>\n",
       "      <td>44905</td>\n",
       "      <td>50000.000000</td>\n",
       "      <td>47320</td>\n",
       "      <td>50000.000000</td>\n",
       "      <td>47242</td>\n",
       "      <td>50000</td>\n",
       "      <td>50000.000000</td>\n",
       "      <td>45518</td>\n",
       "      <td>50000</td>\n",
       "      <td>40171</td>\n",
       "      <td>50000</td>\n",
       "      <td>50000.0</td>\n",
       "      <td>50000.000000</td>\n",
       "      <td>50000</td>\n",
       "    </tr>\n",
       "    <tr>\n",
       "      <th>unique</th>\n",
       "      <td>48213</td>\n",
       "      <td>38754</td>\n",
       "      <td>2</td>\n",
       "      <td>2</td>\n",
       "      <td>2357</td>\n",
       "      <td>2</td>\n",
       "      <td>8</td>\n",
       "      <td>NaN</td>\n",
       "      <td>2</td>\n",
       "      <td>NaN</td>\n",
       "      <td>245</td>\n",
       "      <td>13</td>\n",
       "      <td>NaN</td>\n",
       "      <td>7</td>\n",
       "      <td>40</td>\n",
       "      <td>2</td>\n",
       "      <td>76</td>\n",
       "      <td>NaN</td>\n",
       "      <td>NaN</td>\n",
       "      <td>39481</td>\n",
       "    </tr>\n",
       "    <tr>\n",
       "      <th>top</th>\n",
       "      <td>2016-03-29 23:42:13</td>\n",
       "      <td>Ford_Fiesta</td>\n",
       "      <td>privat</td>\n",
       "      <td>Angebot</td>\n",
       "      <td>$0</td>\n",
       "      <td>test</td>\n",
       "      <td>limousine</td>\n",
       "      <td>NaN</td>\n",
       "      <td>manuell</td>\n",
       "      <td>NaN</td>\n",
       "      <td>golf</td>\n",
       "      <td>150,000km</td>\n",
       "      <td>NaN</td>\n",
       "      <td>benzin</td>\n",
       "      <td>volkswagen</td>\n",
       "      <td>nein</td>\n",
       "      <td>2016-04-03 00:00:00</td>\n",
       "      <td>NaN</td>\n",
       "      <td>NaN</td>\n",
       "      <td>2016-04-07 06:17:27</td>\n",
       "    </tr>\n",
       "    <tr>\n",
       "      <th>freq</th>\n",
       "      <td>3</td>\n",
       "      <td>78</td>\n",
       "      <td>49999</td>\n",
       "      <td>49999</td>\n",
       "      <td>1421</td>\n",
       "      <td>25756</td>\n",
       "      <td>12859</td>\n",
       "      <td>NaN</td>\n",
       "      <td>36993</td>\n",
       "      <td>NaN</td>\n",
       "      <td>4024</td>\n",
       "      <td>32424</td>\n",
       "      <td>NaN</td>\n",
       "      <td>30107</td>\n",
       "      <td>10687</td>\n",
       "      <td>35232</td>\n",
       "      <td>1946</td>\n",
       "      <td>NaN</td>\n",
       "      <td>NaN</td>\n",
       "      <td>8</td>\n",
       "    </tr>\n",
       "    <tr>\n",
       "      <th>mean</th>\n",
       "      <td>NaN</td>\n",
       "      <td>NaN</td>\n",
       "      <td>NaN</td>\n",
       "      <td>NaN</td>\n",
       "      <td>NaN</td>\n",
       "      <td>NaN</td>\n",
       "      <td>NaN</td>\n",
       "      <td>2005.073280</td>\n",
       "      <td>NaN</td>\n",
       "      <td>116.355920</td>\n",
       "      <td>NaN</td>\n",
       "      <td>NaN</td>\n",
       "      <td>5.723360</td>\n",
       "      <td>NaN</td>\n",
       "      <td>NaN</td>\n",
       "      <td>NaN</td>\n",
       "      <td>NaN</td>\n",
       "      <td>0.0</td>\n",
       "      <td>50813.627300</td>\n",
       "      <td>NaN</td>\n",
       "    </tr>\n",
       "    <tr>\n",
       "      <th>std</th>\n",
       "      <td>NaN</td>\n",
       "      <td>NaN</td>\n",
       "      <td>NaN</td>\n",
       "      <td>NaN</td>\n",
       "      <td>NaN</td>\n",
       "      <td>NaN</td>\n",
       "      <td>NaN</td>\n",
       "      <td>105.712813</td>\n",
       "      <td>NaN</td>\n",
       "      <td>209.216627</td>\n",
       "      <td>NaN</td>\n",
       "      <td>NaN</td>\n",
       "      <td>3.711984</td>\n",
       "      <td>NaN</td>\n",
       "      <td>NaN</td>\n",
       "      <td>NaN</td>\n",
       "      <td>NaN</td>\n",
       "      <td>0.0</td>\n",
       "      <td>25779.747957</td>\n",
       "      <td>NaN</td>\n",
       "    </tr>\n",
       "    <tr>\n",
       "      <th>min</th>\n",
       "      <td>NaN</td>\n",
       "      <td>NaN</td>\n",
       "      <td>NaN</td>\n",
       "      <td>NaN</td>\n",
       "      <td>NaN</td>\n",
       "      <td>NaN</td>\n",
       "      <td>NaN</td>\n",
       "      <td>1000.000000</td>\n",
       "      <td>NaN</td>\n",
       "      <td>0.000000</td>\n",
       "      <td>NaN</td>\n",
       "      <td>NaN</td>\n",
       "      <td>0.000000</td>\n",
       "      <td>NaN</td>\n",
       "      <td>NaN</td>\n",
       "      <td>NaN</td>\n",
       "      <td>NaN</td>\n",
       "      <td>0.0</td>\n",
       "      <td>1067.000000</td>\n",
       "      <td>NaN</td>\n",
       "    </tr>\n",
       "    <tr>\n",
       "      <th>25%</th>\n",
       "      <td>NaN</td>\n",
       "      <td>NaN</td>\n",
       "      <td>NaN</td>\n",
       "      <td>NaN</td>\n",
       "      <td>NaN</td>\n",
       "      <td>NaN</td>\n",
       "      <td>NaN</td>\n",
       "      <td>1999.000000</td>\n",
       "      <td>NaN</td>\n",
       "      <td>70.000000</td>\n",
       "      <td>NaN</td>\n",
       "      <td>NaN</td>\n",
       "      <td>3.000000</td>\n",
       "      <td>NaN</td>\n",
       "      <td>NaN</td>\n",
       "      <td>NaN</td>\n",
       "      <td>NaN</td>\n",
       "      <td>0.0</td>\n",
       "      <td>30451.000000</td>\n",
       "      <td>NaN</td>\n",
       "    </tr>\n",
       "    <tr>\n",
       "      <th>50%</th>\n",
       "      <td>NaN</td>\n",
       "      <td>NaN</td>\n",
       "      <td>NaN</td>\n",
       "      <td>NaN</td>\n",
       "      <td>NaN</td>\n",
       "      <td>NaN</td>\n",
       "      <td>NaN</td>\n",
       "      <td>2003.000000</td>\n",
       "      <td>NaN</td>\n",
       "      <td>105.000000</td>\n",
       "      <td>NaN</td>\n",
       "      <td>NaN</td>\n",
       "      <td>6.000000</td>\n",
       "      <td>NaN</td>\n",
       "      <td>NaN</td>\n",
       "      <td>NaN</td>\n",
       "      <td>NaN</td>\n",
       "      <td>0.0</td>\n",
       "      <td>49577.000000</td>\n",
       "      <td>NaN</td>\n",
       "    </tr>\n",
       "    <tr>\n",
       "      <th>75%</th>\n",
       "      <td>NaN</td>\n",
       "      <td>NaN</td>\n",
       "      <td>NaN</td>\n",
       "      <td>NaN</td>\n",
       "      <td>NaN</td>\n",
       "      <td>NaN</td>\n",
       "      <td>NaN</td>\n",
       "      <td>2008.000000</td>\n",
       "      <td>NaN</td>\n",
       "      <td>150.000000</td>\n",
       "      <td>NaN</td>\n",
       "      <td>NaN</td>\n",
       "      <td>9.000000</td>\n",
       "      <td>NaN</td>\n",
       "      <td>NaN</td>\n",
       "      <td>NaN</td>\n",
       "      <td>NaN</td>\n",
       "      <td>0.0</td>\n",
       "      <td>71540.000000</td>\n",
       "      <td>NaN</td>\n",
       "    </tr>\n",
       "    <tr>\n",
       "      <th>max</th>\n",
       "      <td>NaN</td>\n",
       "      <td>NaN</td>\n",
       "      <td>NaN</td>\n",
       "      <td>NaN</td>\n",
       "      <td>NaN</td>\n",
       "      <td>NaN</td>\n",
       "      <td>NaN</td>\n",
       "      <td>9999.000000</td>\n",
       "      <td>NaN</td>\n",
       "      <td>17700.000000</td>\n",
       "      <td>NaN</td>\n",
       "      <td>NaN</td>\n",
       "      <td>12.000000</td>\n",
       "      <td>NaN</td>\n",
       "      <td>NaN</td>\n",
       "      <td>NaN</td>\n",
       "      <td>NaN</td>\n",
       "      <td>0.0</td>\n",
       "      <td>99998.000000</td>\n",
       "      <td>NaN</td>\n",
       "    </tr>\n",
       "  </tbody>\n",
       "</table>\n",
       "</div>"
      ],
      "text/plain": [
       "               date_crawled         name  seller offer_type  price abtest  \\\n",
       "count                 50000        50000   50000      50000  50000  50000   \n",
       "unique                48213        38754       2          2   2357      2   \n",
       "top     2016-03-29 23:42:13  Ford_Fiesta  privat    Angebot     $0   test   \n",
       "freq                      3           78   49999      49999   1421  25756   \n",
       "mean                    NaN          NaN     NaN        NaN    NaN    NaN   \n",
       "std                     NaN          NaN     NaN        NaN    NaN    NaN   \n",
       "min                     NaN          NaN     NaN        NaN    NaN    NaN   \n",
       "25%                     NaN          NaN     NaN        NaN    NaN    NaN   \n",
       "50%                     NaN          NaN     NaN        NaN    NaN    NaN   \n",
       "75%                     NaN          NaN     NaN        NaN    NaN    NaN   \n",
       "max                     NaN          NaN     NaN        NaN    NaN    NaN   \n",
       "\n",
       "       vehicle_type  registration_year  gearbox      power_ps  model  \\\n",
       "count         44905       50000.000000    47320  50000.000000  47242   \n",
       "unique            8                NaN        2           NaN    245   \n",
       "top       limousine                NaN  manuell           NaN   golf   \n",
       "freq          12859                NaN    36993           NaN   4024   \n",
       "mean            NaN        2005.073280      NaN    116.355920    NaN   \n",
       "std             NaN         105.712813      NaN    209.216627    NaN   \n",
       "min             NaN        1000.000000      NaN      0.000000    NaN   \n",
       "25%             NaN        1999.000000      NaN     70.000000    NaN   \n",
       "50%             NaN        2003.000000      NaN    105.000000    NaN   \n",
       "75%             NaN        2008.000000      NaN    150.000000    NaN   \n",
       "max             NaN        9999.000000      NaN  17700.000000    NaN   \n",
       "\n",
       "         odometer  registration_month fuel_type       brand unrepaired_damage  \\\n",
       "count       50000        50000.000000     45518       50000             40171   \n",
       "unique         13                 NaN         7          40                 2   \n",
       "top     150,000km                 NaN    benzin  volkswagen              nein   \n",
       "freq        32424                 NaN     30107       10687             35232   \n",
       "mean          NaN            5.723360       NaN         NaN               NaN   \n",
       "std           NaN            3.711984       NaN         NaN               NaN   \n",
       "min           NaN            0.000000       NaN         NaN               NaN   \n",
       "25%           NaN            3.000000       NaN         NaN               NaN   \n",
       "50%           NaN            6.000000       NaN         NaN               NaN   \n",
       "75%           NaN            9.000000       NaN         NaN               NaN   \n",
       "max           NaN           12.000000       NaN         NaN               NaN   \n",
       "\n",
       "                 ad_created  nr_of_picture   postal_code            last_seen  \n",
       "count                 50000        50000.0  50000.000000                50000  \n",
       "unique                   76            NaN           NaN                39481  \n",
       "top     2016-04-03 00:00:00            NaN           NaN  2016-04-07 06:17:27  \n",
       "freq                   1946            NaN           NaN                    8  \n",
       "mean                    NaN            0.0  50813.627300                  NaN  \n",
       "std                     NaN            0.0  25779.747957                  NaN  \n",
       "min                     NaN            0.0   1067.000000                  NaN  \n",
       "25%                     NaN            0.0  30451.000000                  NaN  \n",
       "50%                     NaN            0.0  49577.000000                  NaN  \n",
       "75%                     NaN            0.0  71540.000000                  NaN  \n",
       "max                     NaN            0.0  99998.000000                  NaN  "
      ]
     },
     "execution_count": 7,
     "metadata": {},
     "output_type": "execute_result"
    }
   ],
   "source": [
    "autos.describe(include='all')"
   ]
  },
  {
   "cell_type": "markdown",
   "metadata": {},
   "source": [
    "This table gives a general insight of how the dataset distributed in each column. In this table, we have to look for columns that have a small or only 2 'unique' values. If the values of the column are biased, we can concluded that this column is not informative. Hence, it will be excluded from our analysis. \n",
    "\n",
    "To further our data cleaning, we have to check for columns:\n",
    "\n",
    "'seller', 'offer_type', 'price', 'abtest', 'gearbox', 'odometer', 'fuel_type' and 'unrepaired_damage'. \n",
    "\n",
    "In this session, we will inspect these columns one by one."
   ]
  },
  {
   "cell_type": "code",
   "execution_count": 8,
   "metadata": {},
   "outputs": [
    {
     "data": {
      "text/plain": [
       "privat        49999\n",
       "gewerblich        1\n",
       "Name: seller, dtype: int64"
      ]
     },
     "execution_count": 8,
     "metadata": {},
     "output_type": "execute_result"
    }
   ],
   "source": [
    "autos['seller'].value_counts()"
   ]
  },
  {
   "cell_type": "markdown",
   "metadata": {},
   "source": [
    "This 'seller' column is heavily biased. "
   ]
  },
  {
   "cell_type": "code",
   "execution_count": 9,
   "metadata": {},
   "outputs": [
    {
     "data": {
      "text/plain": [
       "Angebot    49999\n",
       "Gesuch         1\n",
       "Name: offer_type, dtype: int64"
      ]
     },
     "execution_count": 9,
     "metadata": {},
     "output_type": "execute_result"
    }
   ],
   "source": [
    "autos['offer_type'].value_counts()"
   ]
  },
  {
   "cell_type": "markdown",
   "metadata": {},
   "source": [
    "This 'offer_type' column is heavily biased."
   ]
  },
  {
   "cell_type": "code",
   "execution_count": 10,
   "metadata": {
    "scrolled": true
   },
   "outputs": [
    {
     "data": {
      "text/plain": [
       "$0          1421\n",
       "$500         781\n",
       "$1,500       734\n",
       "$2,500       643\n",
       "$1,000       639\n",
       "            ... \n",
       "$4,222         1\n",
       "$4,475         1\n",
       "$116,000       1\n",
       "$5,849         1\n",
       "$20,450        1\n",
       "Name: price, Length: 2357, dtype: int64"
      ]
     },
     "execution_count": 10,
     "metadata": {},
     "output_type": "execute_result"
    }
   ],
   "source": [
    "autos['price'].value_counts()"
   ]
  },
  {
   "cell_type": "markdown",
   "metadata": {},
   "source": [
    "This 'price' column provides informative understanding about the price of each computer."
   ]
  },
  {
   "cell_type": "code",
   "execution_count": 11,
   "metadata": {},
   "outputs": [
    {
     "data": {
      "text/plain": [
       "test       25756\n",
       "control    24244\n",
       "Name: abtest, dtype: int64"
      ]
     },
     "execution_count": 11,
     "metadata": {},
     "output_type": "execute_result"
    }
   ],
   "source": [
    "autos['abtest'].value_counts()"
   ]
  },
  {
   "cell_type": "code",
   "execution_count": 12,
   "metadata": {},
   "outputs": [
    {
     "data": {
      "text/plain": [
       "manuell      36993\n",
       "automatik    10327\n",
       "Name: gearbox, dtype: int64"
      ]
     },
     "execution_count": 12,
     "metadata": {},
     "output_type": "execute_result"
    }
   ],
   "source": [
    "autos['gearbox'].value_counts()"
   ]
  },
  {
   "cell_type": "code",
   "execution_count": 13,
   "metadata": {},
   "outputs": [
    {
     "data": {
      "text/plain": [
       "150,000km    32424\n",
       "125,000km     5170\n",
       "100,000km     2169\n",
       "90,000km      1757\n",
       "80,000km      1436\n",
       "70,000km      1230\n",
       "60,000km      1164\n",
       "50,000km      1027\n",
       "5,000km        967\n",
       "40,000km       819\n",
       "30,000km       789\n",
       "20,000km       784\n",
       "10,000km       264\n",
       "Name: odometer, dtype: int64"
      ]
     },
     "execution_count": 13,
     "metadata": {},
     "output_type": "execute_result"
    }
   ],
   "source": [
    "autos['odometer'].value_counts()"
   ]
  },
  {
   "cell_type": "code",
   "execution_count": 14,
   "metadata": {},
   "outputs": [
    {
     "data": {
      "text/plain": [
       "benzin     30107\n",
       "diesel     14567\n",
       "lpg          691\n",
       "cng           75\n",
       "hybrid        37\n",
       "andere        22\n",
       "elektro       19\n",
       "Name: fuel_type, dtype: int64"
      ]
     },
     "execution_count": 14,
     "metadata": {},
     "output_type": "execute_result"
    }
   ],
   "source": [
    "autos['fuel_type'].value_counts()"
   ]
  },
  {
   "cell_type": "code",
   "execution_count": 15,
   "metadata": {},
   "outputs": [
    {
     "data": {
      "text/plain": [
       "nein    35232\n",
       "ja       4939\n",
       "Name: unrepaired_damage, dtype: int64"
      ]
     },
     "execution_count": 15,
     "metadata": {},
     "output_type": "execute_result"
    }
   ],
   "source": [
    "autos['unrepaired_damage'].value_counts()"
   ]
  },
  {
   "cell_type": "markdown",
   "metadata": {},
   "source": [
    "'abtest', 'gearbox', 'odometer' and 'fuel_type' columns are not biased. We can also keep 'unrepaired_damage' column."
   ]
  },
  {
   "cell_type": "markdown",
   "metadata": {},
   "source": [
    "In short, 'seller', 'offer_type' columns will be removed from our analysis."
   ]
  },
  {
   "cell_type": "markdown",
   "metadata": {},
   "source": [
    "#### Price and odometer columns are numeric values but stored as text. \n",
    "* Remove any non-numeric characters\n",
    "* Convert the column to a numeric dtype\n",
    "* Rename the column if necessary (odometer to odometer_km for information)"
   ]
  },
  {
   "cell_type": "code",
   "execution_count": 16,
   "metadata": {},
   "outputs": [],
   "source": [
    "autos['odometer'] = autos['odometer'].str.replace(',','')\n",
    "autos['odometer'] = autos['odometer'].str.replace('km','')\n",
    "autos['odometer'] = autos['odometer'].astype(int)\n",
    "autos.rename({'odometer':'odometer_km'}, inplace = True, axis = 1)"
   ]
  },
  {
   "cell_type": "code",
   "execution_count": 17,
   "metadata": {},
   "outputs": [],
   "source": [
    "autos['price'] = autos['price'].str.replace('$','')\n",
    "autos['price'] = autos['price'].str.replace(',','')\n",
    "autos['price'] = autos['price'].astype(int)"
   ]
  },
  {
   "cell_type": "markdown",
   "metadata": {},
   "source": [
    "#### Inspect odometer_km column"
   ]
  },
  {
   "cell_type": "code",
   "execution_count": 18,
   "metadata": {},
   "outputs": [
    {
     "name": "stdout",
     "output_type": "stream",
     "text": [
      "Odometer_km has 13 unique values\n",
      "\n",
      "\n",
      "Description of odometer_km\n",
      "count     50000.000000\n",
      "mean     125732.700000\n",
      "std       40042.211706\n",
      "min        5000.000000\n",
      "25%      125000.000000\n",
      "50%      150000.000000\n",
      "75%      150000.000000\n",
      "max      150000.000000\n",
      "Name: odometer_km, dtype: float64\n",
      "\n",
      "\n",
      "Check the variations of odometer_km\n",
      "150000    32424\n",
      "125000     5170\n",
      "100000     2169\n",
      "90000      1757\n",
      "80000      1436\n",
      "70000      1230\n",
      "60000      1164\n",
      "50000      1027\n",
      "5000        967\n",
      "40000       819\n",
      "30000       789\n",
      "20000       784\n",
      "10000       264\n",
      "Name: odometer_km, dtype: int64\n"
     ]
    }
   ],
   "source": [
    "odometer_km = autos['odometer_km']\n",
    "odometer_km_unique_num = odometer_km.unique().shape[0]\n",
    "print(\"Odometer_km has {} unique values\".format(odometer_km_unique_num))\n",
    "print('\\n')\n",
    "odometer_km_desc = odometer_km.describe()\n",
    "print('Description of odometer_km')\n",
    "print(odometer_km_desc)\n",
    "print('\\n')\n",
    "\n",
    "print('Check the variations of odometer_km')\n",
    "odometer_value_counts = odometer_km.value_counts()\n",
    "print(odometer_value_counts)\n",
    "\n",
    "odometer_value_counts_sorted = odometer_value_counts.sort_index(ascending = False)\n",
    "\n",
    "\n"
   ]
  },
  {
   "cell_type": "markdown",
   "metadata": {},
   "source": [
    "There are 13 unique values in the odometer_km columns, the mean value is 124,732. There is no observable outliers in this column. Majority of cars have a odometer of 150,000 km."
   ]
  },
  {
   "cell_type": "markdown",
   "metadata": {},
   "source": [
    "#### Inspect the price column"
   ]
  },
  {
   "cell_type": "code",
   "execution_count": 19,
   "metadata": {},
   "outputs": [
    {
     "name": "stdout",
     "output_type": "stream",
     "text": [
      "price has 2357 unique values\n",
      "\n",
      "\n",
      "Description of price\n",
      "count    5.000000e+04\n",
      "mean     9.840044e+03\n",
      "std      4.811044e+05\n",
      "min      0.000000e+00\n",
      "25%      1.100000e+03\n",
      "50%      2.950000e+03\n",
      "75%      7.200000e+03\n",
      "max      1.000000e+08\n",
      "Name: price, dtype: float64\n",
      "\n",
      "\n",
      "Check the variations of price\n",
      "99999999       1\n",
      "27322222       1\n",
      "12345678       3\n",
      "11111111       2\n",
      "10000000       1\n",
      "            ... \n",
      "5              2\n",
      "3              1\n",
      "2              3\n",
      "1            156\n",
      "0           1421\n",
      "Name: price, Length: 2357, dtype: int64\n",
      "\n",
      "\n",
      "Cleaned dataset has 48051 rows, 20 columns\n"
     ]
    }
   ],
   "source": [
    "price = autos['price']\n",
    "price_unique_num = price.unique().shape[0]\n",
    "print(\"price has {} unique values\".format(price_unique_num))\n",
    "print('\\n')\n",
    "price_desc = price.describe()\n",
    "print('Description of price')\n",
    "print(price_desc)\n",
    "print('\\n')\n",
    "\n",
    "print('Check the variations of price')\n",
    "price_value_counts = price.value_counts()\n",
    "price_value_counts_sorted = price_value_counts.sort_index(ascending = False)\n",
    "print(price_value_counts_sorted)\n",
    "print('\\n')\n",
    "\n",
    "A = autos[(autos['price'] > 1.100000e+02) & (autos['price'] < 100000)]\n",
    "autos_clean = autos[autos[\"price\"].between(1.100000e+02, 100000)]\n",
    "print('Cleaned dataset has {0} rows, {1} columns'.format(autos_clean.shape[0],autos_clean.shape[1]))\n"
   ]
  },
  {
   "cell_type": "markdown",
   "metadata": {},
   "source": [
    "As we can observed, the mean value of the price column is about 9840. However, we found that there are extreme values existed in the price data. (eg. value 9999999 or value 0)\n",
    "\n",
    "To filter out the outliers, we decided to set a upper bound price and lower bound price. In our data, we only accept data with reasonable price (ranging from 110 to 100000).\n",
    "\n",
    "After the cleaning, our dataset has 48,051 rows and 20 columns."
   ]
  },
  {
   "cell_type": "markdown",
   "metadata": {},
   "source": [
    "### Now, we take a look at 'date_crowled', 'last_seen' and 'ad_created' columns:"
   ]
  },
  {
   "cell_type": "markdown",
   "metadata": {},
   "source": [
    "These 3 columns are stored in string format. We have to convert the data inro a numerical representation for quantative analysis. Let's take a look at a few examples:"
   ]
  },
  {
   "cell_type": "code",
   "execution_count": 20,
   "metadata": {},
   "outputs": [
    {
     "data": {
      "text/html": [
       "<div>\n",
       "<style scoped>\n",
       "    .dataframe tbody tr th:only-of-type {\n",
       "        vertical-align: middle;\n",
       "    }\n",
       "\n",
       "    .dataframe tbody tr th {\n",
       "        vertical-align: top;\n",
       "    }\n",
       "\n",
       "    .dataframe thead th {\n",
       "        text-align: right;\n",
       "    }\n",
       "</style>\n",
       "<table border=\"1\" class=\"dataframe\">\n",
       "  <thead>\n",
       "    <tr style=\"text-align: right;\">\n",
       "      <th></th>\n",
       "      <th>date_crawled</th>\n",
       "      <th>ad_created</th>\n",
       "      <th>last_seen</th>\n",
       "    </tr>\n",
       "  </thead>\n",
       "  <tbody>\n",
       "    <tr>\n",
       "      <th>0</th>\n",
       "      <td>2016-03-26 17:47:46</td>\n",
       "      <td>2016-03-26 00:00:00</td>\n",
       "      <td>2016-04-06 06:45:54</td>\n",
       "    </tr>\n",
       "    <tr>\n",
       "      <th>1</th>\n",
       "      <td>2016-04-04 13:38:56</td>\n",
       "      <td>2016-04-04 00:00:00</td>\n",
       "      <td>2016-04-06 14:45:08</td>\n",
       "    </tr>\n",
       "    <tr>\n",
       "      <th>2</th>\n",
       "      <td>2016-03-26 18:57:24</td>\n",
       "      <td>2016-03-26 00:00:00</td>\n",
       "      <td>2016-04-06 20:15:37</td>\n",
       "    </tr>\n",
       "    <tr>\n",
       "      <th>3</th>\n",
       "      <td>2016-03-12 16:58:10</td>\n",
       "      <td>2016-03-12 00:00:00</td>\n",
       "      <td>2016-03-15 03:16:28</td>\n",
       "    </tr>\n",
       "    <tr>\n",
       "      <th>4</th>\n",
       "      <td>2016-04-01 14:38:50</td>\n",
       "      <td>2016-04-01 00:00:00</td>\n",
       "      <td>2016-04-01 14:38:50</td>\n",
       "    </tr>\n",
       "  </tbody>\n",
       "</table>\n",
       "</div>"
      ],
      "text/plain": [
       "          date_crawled           ad_created            last_seen\n",
       "0  2016-03-26 17:47:46  2016-03-26 00:00:00  2016-04-06 06:45:54\n",
       "1  2016-04-04 13:38:56  2016-04-04 00:00:00  2016-04-06 14:45:08\n",
       "2  2016-03-26 18:57:24  2016-03-26 00:00:00  2016-04-06 20:15:37\n",
       "3  2016-03-12 16:58:10  2016-03-12 00:00:00  2016-03-15 03:16:28\n",
       "4  2016-04-01 14:38:50  2016-04-01 00:00:00  2016-04-01 14:38:50"
      ]
     },
     "execution_count": 20,
     "metadata": {},
     "output_type": "execute_result"
    }
   ],
   "source": [
    "autos_clean[['date_crawled','ad_created','last_seen']][0:5]"
   ]
  },
  {
   "cell_type": "markdown",
   "metadata": {},
   "source": [
    "Let extract the date range from these columns and run a quick analysis:`"
   ]
  },
  {
   "cell_type": "code",
   "execution_count": 21,
   "metadata": {},
   "outputs": [
    {
     "name": "stdout",
     "output_type": "stream",
     "text": [
      "<bound method Series.sort_index of 2016-04-03    0.038605\n",
      "2016-03-20    0.037772\n",
      "2016-03-21    0.037273\n",
      "2016-03-12    0.036961\n",
      "2016-03-14    0.036669\n",
      "2016-04-04    0.036586\n",
      "2016-03-07    0.035983\n",
      "2016-04-02    0.035629\n",
      "2016-03-28    0.034984\n",
      "2016-03-19    0.034755\n",
      "2016-03-15    0.034214\n",
      "2016-03-29    0.034110\n",
      "2016-03-30    0.033756\n",
      "2016-04-01    0.033652\n",
      "2016-03-08    0.033215\n",
      "2016-03-09    0.033007\n",
      "2016-03-22    0.032840\n",
      "2016-03-11    0.032674\n",
      "2016-03-10    0.032382\n",
      "2016-03-23    0.032299\n",
      "2016-03-26    0.032216\n",
      "2016-03-31    0.031841\n",
      "2016-03-17    0.031508\n",
      "2016-03-25    0.031404\n",
      "2016-03-27    0.031113\n",
      "2016-03-24    0.029448\n",
      "2016-03-16    0.029448\n",
      "2016-03-05    0.025369\n",
      "2016-03-13    0.015733\n",
      "2016-03-06    0.014068\n",
      "2016-04-05    0.013090\n",
      "2016-03-18    0.012841\n",
      "2016-04-06    0.003163\n",
      "2016-04-07    0.001394\n",
      "Name: date_crawled, dtype: float64>\n"
     ]
    }
   ],
   "source": [
    "# Run distribution with missing values:\n",
    "autosclean_value = autos_clean['date_crawled'].str[:10].value_counts(normalize = True, dropna = False)\n",
    "print(autosclean_value.sort_index)"
   ]
  },
  {
   "cell_type": "code",
   "execution_count": 22,
   "metadata": {},
   "outputs": [
    {
     "name": "stdout",
     "output_type": "stream",
     "text": [
      "<bound method Series.sort_index of 2016-04-03    0.038855\n",
      "2016-03-20    0.037856\n",
      "2016-03-21    0.037502\n",
      "2016-04-04    0.036940\n",
      "2016-03-12    0.036794\n",
      "                ...   \n",
      "2016-02-11    0.000021\n",
      "2016-01-03    0.000021\n",
      "2016-01-16    0.000021\n",
      "2016-01-29    0.000021\n",
      "2016-02-07    0.000021\n",
      "Name: ad_created, Length: 76, dtype: float64>\n"
     ]
    }
   ],
   "source": [
    "autosclean_value = autos_clean['ad_created'].str[:10].value_counts(normalize = True, dropna = False)\n",
    "print(autosclean_value.sort_index)\n"
   ]
  },
  {
   "cell_type": "code",
   "execution_count": 23,
   "metadata": {},
   "outputs": [
    {
     "name": "stdout",
     "output_type": "stream",
     "text": [
      "<bound method Series.sort_index of 2016-04-06    0.221993\n",
      "2016-04-07    0.132214\n",
      "2016-04-05    0.125034\n",
      "2016-03-17    0.028095\n",
      "2016-04-03    0.025140\n",
      "2016-04-02    0.024849\n",
      "2016-03-30    0.024661\n",
      "2016-04-04    0.024536\n",
      "2016-03-31    0.023870\n",
      "2016-03-12    0.023850\n",
      "2016-04-01    0.022892\n",
      "2016-03-29    0.022330\n",
      "2016-03-22    0.021394\n",
      "2016-03-28    0.020790\n",
      "2016-03-20    0.020666\n",
      "2016-03-21    0.020561\n",
      "2016-03-24    0.019687\n",
      "2016-03-25    0.019126\n",
      "2016-03-23    0.018584\n",
      "2016-03-26    0.016649\n",
      "2016-03-16    0.016420\n",
      "2016-03-15    0.015837\n",
      "2016-03-19    0.015775\n",
      "2016-03-27    0.015504\n",
      "2016-03-14    0.012632\n",
      "2016-03-11    0.012424\n",
      "2016-03-10    0.010655\n",
      "2016-03-09    0.009552\n",
      "2016-03-13    0.008886\n",
      "2016-03-08    0.007305\n",
      "2016-03-18    0.007305\n",
      "2016-03-07    0.005390\n",
      "2016-03-06    0.004308\n",
      "2016-03-05    0.001082\n",
      "Name: last_seen, dtype: float64>\n"
     ]
    }
   ],
   "source": [
    "autosclean_value = autos_clean['last_seen'].str[:10].value_counts(normalize = True, dropna = False)\n",
    "print(autosclean_value.sort_index)"
   ]
  },
  {
   "cell_type": "code",
   "execution_count": 24,
   "metadata": {},
   "outputs": [
    {
     "name": "stdout",
     "output_type": "stream",
     "text": [
      "Description for registration year column\n",
      "count    48051.000000\n",
      "mean      2004.749433\n",
      "std         88.052996\n",
      "min       1000.000000\n",
      "25%       1999.000000\n",
      "50%       2004.000000\n",
      "75%       2008.000000\n",
      "max       9999.000000\n",
      "Name: registration_year, dtype: float64\n",
      "Distribution for registration year column\n",
      "2000    0.064057\n",
      "2005    0.060540\n",
      "1999    0.059770\n",
      "2004    0.056169\n",
      "2003    0.056045\n",
      "2006    0.055524\n",
      "2001    0.054650\n",
      "2002    0.051508\n",
      "1998    0.048282\n",
      "2007    0.047262\n",
      "2008    0.045930\n",
      "2009    0.043287\n",
      "1997    0.039687\n",
      "2011    0.033631\n",
      "2010    0.032944\n",
      "2017    0.028761\n",
      "1996    0.028033\n",
      "2012    0.027159\n",
      "2016    0.024765\n",
      "1995    0.024474\n",
      "2013    0.016566\n",
      "2014    0.013735\n",
      "1994    0.012820\n",
      "2018    0.009740\n",
      "1993    0.008657\n",
      "2015    0.007825\n",
      "1992    0.007575\n",
      "1991    0.006972\n",
      "1990    0.006826\n",
      "1989    0.003559\n",
      "Name: registration_year, dtype: float64\n"
     ]
    }
   ],
   "source": [
    "print('Description for registration year column')\n",
    "Au = autos_clean['registration_year'].describe()\n",
    "print(Au)\n",
    "\n",
    "print('Distribution for registration year column')\n",
    "Dist = autos_clean['registration_year'].value_counts(normalize = True)\n",
    "print(Dist[:30])"
   ]
  },
  {
   "cell_type": "markdown",
   "metadata": {},
   "source": [
    "### For column 'registration_year', there are outliers. \n",
    "A car can not be registered: \n",
    "* before year 1000: cars were invented after year 1000\n",
    "* After year 9999: This is our future\n",
    "* After year 2016: This dataset is obtained in 2016\n",
    "\n",
    "By quick research, car was invented in year 1886. So, any data with registration outside year 1886 and year 2016 are considered as outliers."
   ]
  },
  {
   "cell_type": "code",
   "execution_count": 25,
   "metadata": {},
   "outputs": [],
   "source": [
    "lower_bound = 1886\n",
    "upper_bound = 2016\n",
    "autos_clean_regist = autos_clean[autos_clean[\"registration_year\"].between(lower_bound, upper_bound)]\n"
   ]
  },
  {
   "cell_type": "code",
   "execution_count": 26,
   "metadata": {},
   "outputs": [
    {
     "name": "stdout",
     "output_type": "stream",
     "text": [
      "46181\n",
      "Distribution of registration year\n"
     ]
    },
    {
     "data": {
      "text/plain": [
       "2000    0.066651\n",
       "2005    0.062991\n",
       "1999    0.062190\n",
       "2004    0.058444\n",
       "2003    0.058314\n",
       "          ...   \n",
       "1939    0.000022\n",
       "1943    0.000022\n",
       "1953    0.000022\n",
       "1951    0.000022\n",
       "1952    0.000022\n",
       "Name: registration_year, Length: 78, dtype: float64"
      ]
     },
     "execution_count": 26,
     "metadata": {},
     "output_type": "execute_result"
    }
   ],
   "source": [
    "print(autos_clean_regist.shape[0])\n",
    "print('Distribution of registration year')\n",
    "autos_clean_regist['registration_year'].value_counts(normalize = True)\n"
   ]
  },
  {
   "cell_type": "markdown",
   "metadata": {},
   "source": [
    "After removing outliers, the registration years for car are within year 1952 to 2016. There are 46181 rows of data remaining."
   ]
  },
  {
   "cell_type": "markdown",
   "metadata": {},
   "source": [
    "### Exploring variations between different car brands:\n",
    "First, let's understand how many unique car brands existed in our dataset. For our analysis, we will select the top 20 most frequent car brands to calculate for their corresponding average car price."
   ]
  },
  {
   "cell_type": "code",
   "execution_count": 38,
   "metadata": {},
   "outputs": [
    {
     "name": "stdout",
     "output_type": "stream",
     "text": [
      "volkswagen        9770\n",
      "bmw               5102\n",
      "opel              4947\n",
      "mercedes_benz     4476\n",
      "audi              4017\n",
      "ford              3214\n",
      "renault           2170\n",
      "peugeot           1380\n",
      "fiat              1179\n",
      "seat               844\n",
      "skoda              760\n",
      "nissan             709\n",
      "mazda              702\n",
      "smart              658\n",
      "citroen            649\n",
      "toyota             593\n",
      "hyundai            464\n",
      "sonstige_autos     435\n",
      "volvo              422\n",
      "mini               407\n",
      "mitsubishi         377\n",
      "honda              363\n",
      "kia                328\n",
      "alfa_romeo         309\n",
      "suzuki             272\n",
      "chevrolet          262\n",
      "porsche            253\n",
      "chrysler           163\n",
      "dacia              123\n",
      "daihatsu           115\n",
      "jeep               106\n",
      "land_rover          98\n",
      "subaru              98\n",
      "saab                77\n",
      "jaguar              71\n",
      "daewoo              68\n",
      "trabant             63\n",
      "rover               61\n",
      "lancia              49\n",
      "lada                27\n",
      "Name: brand, dtype: int64\n"
     ]
    }
   ],
   "source": [
    "brand = autos_clean_regist['brand']\n",
    "unique_brand = brand.unique()\n",
    "brand_value = brand.value_counts()\n",
    "\n",
    "print(brand_value)\n",
    "brand_key = brand_value.index\n",
    "brand_key = brand_key[:20]\n",
    "    "
   ]
  },
  {
   "cell_type": "markdown",
   "metadata": {},
   "source": [
    "The first 20 car brands on the above table will be selected for our analysis."
   ]
  },
  {
   "cell_type": "code",
   "execution_count": 40,
   "metadata": {},
   "outputs": [],
   "source": [
    "brand_top = {}\n",
    "for b in brand_key:\n",
    "    select_rows = autos_clean_regist[autos_clean_regist['brand'] == b]\n",
    "    sort_rows = select_rows.sort_values(\"brand\", ascending = False)\n",
    "    sort_price = sort_rows['price'].mean()\n",
    "    brand_top[b] = sort_price"
   ]
  },
  {
   "cell_type": "code",
   "execution_count": 41,
   "metadata": {},
   "outputs": [
    {
     "data": {
      "text/plain": [
       "{'volkswagen': 5452.7916069600815,\n",
       " 'bmw': 8252.84711877695,\n",
       " 'opel': 3019.591873862947,\n",
       " 'mercedes_benz': 8575.378016085791,\n",
       " 'audi': 9348.730395817774,\n",
       " 'ford': 3765.181705040448,\n",
       " 'renault': 2509.320737327189,\n",
       " 'peugeot': 3122.5963768115944,\n",
       " 'fiat': 2855.4444444444443,\n",
       " 'seat': 4443.688388625593,\n",
       " 'skoda': 6417.9118421052635,\n",
       " 'nissan': 4769.795486600846,\n",
       " 'mazda': 4152.736467236467,\n",
       " 'smart': 3596.40273556231,\n",
       " 'citroen': 3807.653312788906,\n",
       " 'toyota': 5167.091062394604,\n",
       " 'hyundai': 5411.075431034483,\n",
       " 'sonstige_autos': 10993.505747126437,\n",
       " 'volvo': 5004.803317535545,\n",
       " 'mini': 10665.346437346438}"
      ]
     },
     "execution_count": 41,
     "metadata": {},
     "output_type": "execute_result"
    }
   ],
   "source": [
    "brand_top"
   ]
  },
  {
   "cell_type": "markdown",
   "metadata": {},
   "source": [
    "Among the pool of Ebay cars, the average price of 'mini', 'sonstige_autos', 'audi', 'bmw' and 'mercedes_benz'cars on Ebay are the most expensive. They are in general considered as 'high-class' brand in our daily life. We can also observe that there are market for cars with mid-range price and low-range price. Brands like 'Skoda', 'toyota', 'volkswagen', 'hyundai' are having an average price of around 5000. \n",
    "\n",
    "This shows that Ebay users may come from families of different wealth conditions. In the top 20 most frequent car brands, we can observe that both experience-price, mid-range price and low-price all contributes to the Ebay market."
   ]
  },
  {
   "cell_type": "code",
   "execution_count": 45,
   "metadata": {},
   "outputs": [],
   "source": [
    "brand_key = brand_value.index\n",
    "brand_key = brand_key[:6]\n",
    "\n",
    "brand_top_price = {}\n",
    "brand_top_mileage = {}\n",
    "for b in brand_key:\n",
    "    select_rows = autos_clean_regist[autos_clean_regist['brand'] == b]\n",
    "    sort_rows = select_rows.sort_values(\"brand\", ascending = False)\n",
    "    \n",
    "    sort_price = sort_rows['price'].mean()\n",
    "    sort_mileage = sort_rows['odometer_km'].mean()\n",
    "    \n",
    "    brand_top_price[b] = sort_price\n",
    "    brand_top_mileage[b] = sort_mileage"
   ]
  },
  {
   "cell_type": "code",
   "execution_count": 53,
   "metadata": {},
   "outputs": [
    {
     "data": {
      "text/html": [
       "<div>\n",
       "<style scoped>\n",
       "    .dataframe tbody tr th:only-of-type {\n",
       "        vertical-align: middle;\n",
       "    }\n",
       "\n",
       "    .dataframe tbody tr th {\n",
       "        vertical-align: top;\n",
       "    }\n",
       "\n",
       "    .dataframe thead th {\n",
       "        text-align: right;\n",
       "    }\n",
       "</style>\n",
       "<table border=\"1\" class=\"dataframe\">\n",
       "  <thead>\n",
       "    <tr style=\"text-align: right;\">\n",
       "      <th></th>\n",
       "      <th>mean price</th>\n",
       "      <th>mean mileage</th>\n",
       "    </tr>\n",
       "  </thead>\n",
       "  <tbody>\n",
       "    <tr>\n",
       "      <th>volkswagen</th>\n",
       "      <td>5452.791607</td>\n",
       "      <td>128783.520983</td>\n",
       "    </tr>\n",
       "    <tr>\n",
       "      <th>bmw</th>\n",
       "      <td>8252.847119</td>\n",
       "      <td>132778.322227</td>\n",
       "    </tr>\n",
       "    <tr>\n",
       "      <th>opel</th>\n",
       "      <td>3019.591874</td>\n",
       "      <td>129379.421872</td>\n",
       "    </tr>\n",
       "    <tr>\n",
       "      <th>mercedes_benz</th>\n",
       "      <td>8575.378016</td>\n",
       "      <td>131117.068811</td>\n",
       "    </tr>\n",
       "    <tr>\n",
       "      <th>audi</th>\n",
       "      <td>9348.730396</td>\n",
       "      <td>129291.760020</td>\n",
       "    </tr>\n",
       "    <tr>\n",
       "      <th>ford</th>\n",
       "      <td>3765.181705</td>\n",
       "      <td>124271.935283</td>\n",
       "    </tr>\n",
       "  </tbody>\n",
       "</table>\n",
       "</div>"
      ],
      "text/plain": [
       "                mean price   mean mileage\n",
       "volkswagen     5452.791607  128783.520983\n",
       "bmw            8252.847119  132778.322227\n",
       "opel           3019.591874  129379.421872\n",
       "mercedes_benz  8575.378016  131117.068811\n",
       "audi           9348.730396  129291.760020\n",
       "ford           3765.181705  124271.935283"
      ]
     },
     "execution_count": 53,
     "metadata": {},
     "output_type": "execute_result"
    }
   ],
   "source": [
    "price_series = pd.Series(brand_top_price)\n",
    "mileage_series = pd.Series(brand_top_mileage)\n",
    "\n",
    "df = pd.DataFrame(price_series, columns = [\"mean price\"])\n",
    "df['mean mileage'] = mileage_series\n",
    "df"
   ]
  },
  {
   "cell_type": "code",
   "execution_count": null,
   "metadata": {},
   "outputs": [],
   "source": []
  },
  {
   "cell_type": "code",
   "execution_count": null,
   "metadata": {},
   "outputs": [],
   "source": []
  }
 ],
 "metadata": {
  "kernelspec": {
   "display_name": "Python 3",
   "language": "python",
   "name": "python3"
  },
  "language_info": {
   "codemirror_mode": {
    "name": "ipython",
    "version": 3
   },
   "file_extension": ".py",
   "mimetype": "text/x-python",
   "name": "python",
   "nbconvert_exporter": "python",
   "pygments_lexer": "ipython3",
   "version": "3.7.6"
  }
 },
 "nbformat": 4,
 "nbformat_minor": 4
}
